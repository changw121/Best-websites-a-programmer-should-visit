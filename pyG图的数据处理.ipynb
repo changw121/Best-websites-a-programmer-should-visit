{
  "nbformat": 4,
  "nbformat_minor": 0,
  "metadata": {
    "colab": {
      "provenance": [],
      "authorship_tag": "ABX9TyMnjoeuq5kBGRLKQIEIn/s5",
      "include_colab_link": true
    },
    "kernelspec": {
      "name": "python3",
      "display_name": "Python 3"
    },
    "language_info": {
      "name": "python"
    }
  },
  "cells": [
    {
      "cell_type": "markdown",
      "metadata": {
        "id": "view-in-github",
        "colab_type": "text"
      },
      "source": [
        "<a href=\"https://colab.research.google.com/github/changw121/Best-websites-a-programmer-should-visit/blob/master/pyG%E5%9B%BE%E7%9A%84%E6%95%B0%E6%8D%AE%E5%A4%84%E7%90%86.ipynb\" target=\"_parent\"><img src=\"https://colab.research.google.com/assets/colab-badge.svg\" alt=\"Open In Colab\"/></a>"
      ]
    },
    {
      "cell_type": "code",
      "execution_count": 1,
      "metadata": {
        "colab": {
          "base_uri": "https://localhost:8080/"
        },
        "id": "g8sbm0Ln-U7X",
        "outputId": "fd2e221e-3699-4a0c-98d1-2be0bdf144ee"
      },
      "outputs": [
        {
          "output_type": "stream",
          "name": "stdout",
          "text": [
            "Collecting torch_geometric\n",
            "  Downloading torch_geometric-2.3.1.tar.gz (661 kB)\n",
            "\u001b[2K     \u001b[90m━━━━━━━━━━━━━━━━━━━━━━━━━━━━━━━━━━━━━━━\u001b[0m \u001b[32m661.6/661.6 kB\u001b[0m \u001b[31m5.2 MB/s\u001b[0m eta \u001b[36m0:00:00\u001b[0m\n",
            "\u001b[?25h  Installing build dependencies ... \u001b[?25l\u001b[?25hdone\n",
            "  Getting requirements to build wheel ... \u001b[?25l\u001b[?25hdone\n",
            "  Preparing metadata (pyproject.toml) ... \u001b[?25l\u001b[?25hdone\n",
            "Requirement already satisfied: tqdm in /usr/local/lib/python3.10/dist-packages (from torch_geometric) (4.65.0)\n",
            "Requirement already satisfied: numpy in /usr/local/lib/python3.10/dist-packages (from torch_geometric) (1.22.4)\n",
            "Requirement already satisfied: scipy in /usr/local/lib/python3.10/dist-packages (from torch_geometric) (1.10.1)\n",
            "Requirement already satisfied: jinja2 in /usr/local/lib/python3.10/dist-packages (from torch_geometric) (3.1.2)\n",
            "Requirement already satisfied: requests in /usr/local/lib/python3.10/dist-packages (from torch_geometric) (2.27.1)\n",
            "Requirement already satisfied: pyparsing in /usr/local/lib/python3.10/dist-packages (from torch_geometric) (3.1.0)\n",
            "Requirement already satisfied: scikit-learn in /usr/local/lib/python3.10/dist-packages (from torch_geometric) (1.2.2)\n",
            "Requirement already satisfied: psutil>=5.8.0 in /usr/local/lib/python3.10/dist-packages (from torch_geometric) (5.9.5)\n",
            "Requirement already satisfied: MarkupSafe>=2.0 in /usr/local/lib/python3.10/dist-packages (from jinja2->torch_geometric) (2.1.3)\n",
            "Requirement already satisfied: urllib3<1.27,>=1.21.1 in /usr/local/lib/python3.10/dist-packages (from requests->torch_geometric) (1.26.16)\n",
            "Requirement already satisfied: certifi>=2017.4.17 in /usr/local/lib/python3.10/dist-packages (from requests->torch_geometric) (2023.7.22)\n",
            "Requirement already satisfied: charset-normalizer~=2.0.0 in /usr/local/lib/python3.10/dist-packages (from requests->torch_geometric) (2.0.12)\n",
            "Requirement already satisfied: idna<4,>=2.5 in /usr/local/lib/python3.10/dist-packages (from requests->torch_geometric) (3.4)\n",
            "Requirement already satisfied: joblib>=1.1.1 in /usr/local/lib/python3.10/dist-packages (from scikit-learn->torch_geometric) (1.3.1)\n",
            "Requirement already satisfied: threadpoolctl>=2.0.0 in /usr/local/lib/python3.10/dist-packages (from scikit-learn->torch_geometric) (3.2.0)\n",
            "Building wheels for collected packages: torch_geometric\n",
            "  Building wheel for torch_geometric (pyproject.toml) ... \u001b[?25l\u001b[?25hdone\n",
            "  Created wheel for torch_geometric: filename=torch_geometric-2.3.1-py3-none-any.whl size=910454 sha256=ab548df04e8f757c7cfc65f5ba9939ee0016cfce221d496b0ca21be530e8d5a3\n",
            "  Stored in directory: /root/.cache/pip/wheels/ac/dc/30/e2874821ff308ee67dcd7a66dbde912411e19e35a1addda028\n",
            "Successfully built torch_geometric\n",
            "Installing collected packages: torch_geometric\n",
            "Successfully installed torch_geometric-2.3.1\n",
            "Looking in links: https://data.pyg.org/whl/torch-2.0.0+cu118.html\n",
            "Collecting pyg_lib\n",
            "  Downloading https://data.pyg.org/whl/torch-2.0.0%2Bcu118/pyg_lib-0.2.0%2Bpt20cu118-cp310-cp310-linux_x86_64.whl (1.8 MB)\n",
            "\u001b[2K     \u001b[90m━━━━━━━━━━━━━━━━━━━━━━━━━━━━━━━━━━━━━━━━\u001b[0m \u001b[32m1.8/1.8 MB\u001b[0m \u001b[31m24.9 MB/s\u001b[0m eta \u001b[36m0:00:00\u001b[0m\n",
            "\u001b[?25hCollecting torch_scatter\n",
            "  Downloading https://data.pyg.org/whl/torch-2.0.0%2Bcu118/torch_scatter-2.1.1%2Bpt20cu118-cp310-cp310-linux_x86_64.whl (10.2 MB)\n",
            "\u001b[2K     \u001b[90m━━━━━━━━━━━━━━━━━━━━━━━━━━━━━━━━━━━━━━━\u001b[0m \u001b[32m10.2/10.2 MB\u001b[0m \u001b[31m107.8 MB/s\u001b[0m eta \u001b[36m0:00:00\u001b[0m\n",
            "\u001b[?25hCollecting torch_sparse\n",
            "  Downloading https://data.pyg.org/whl/torch-2.0.0%2Bcu118/torch_sparse-0.6.17%2Bpt20cu118-cp310-cp310-linux_x86_64.whl (4.8 MB)\n",
            "\u001b[2K     \u001b[90m━━━━━━━━━━━━━━━━━━━━━━━━━━━━━━━━━━━━━━━━\u001b[0m \u001b[32m4.8/4.8 MB\u001b[0m \u001b[31m80.3 MB/s\u001b[0m eta \u001b[36m0:00:00\u001b[0m\n",
            "\u001b[?25hCollecting torch_cluster\n",
            "  Downloading https://data.pyg.org/whl/torch-2.0.0%2Bcu118/torch_cluster-1.6.1%2Bpt20cu118-cp310-cp310-linux_x86_64.whl (3.3 MB)\n",
            "\u001b[2K     \u001b[90m━━━━━━━━━━━━━━━━━━━━━━━━━━━━━━━━━━━━━━━━\u001b[0m \u001b[32m3.3/3.3 MB\u001b[0m \u001b[31m62.2 MB/s\u001b[0m eta \u001b[36m0:00:00\u001b[0m\n",
            "\u001b[?25hCollecting torch_spline_conv\n",
            "  Downloading https://data.pyg.org/whl/torch-2.0.0%2Bcu118/torch_spline_conv-1.2.2%2Bpt20cu118-cp310-cp310-linux_x86_64.whl (884 kB)\n",
            "\u001b[2K     \u001b[90m━━━━━━━━━━━━━━━━━━━━━━━━━━━━━━━━━━━━━━\u001b[0m \u001b[32m884.9/884.9 kB\u001b[0m \u001b[31m35.0 MB/s\u001b[0m eta \u001b[36m0:00:00\u001b[0m\n",
            "\u001b[?25hRequirement already satisfied: scipy in /usr/local/lib/python3.10/dist-packages (from torch_sparse) (1.10.1)\n",
            "Requirement already satisfied: numpy<1.27.0,>=1.19.5 in /usr/local/lib/python3.10/dist-packages (from scipy->torch_sparse) (1.22.4)\n",
            "Installing collected packages: torch_spline_conv, torch_scatter, pyg_lib, torch_sparse, torch_cluster\n",
            "Successfully installed pyg_lib-0.2.0+pt20cu118 torch_cluster-1.6.1+pt20cu118 torch_scatter-2.1.1+pt20cu118 torch_sparse-0.6.17+pt20cu118 torch_spline_conv-1.2.2+pt20cu118\n"
          ]
        }
      ],
      "source": [
        "!pip install torch_geometric\n",
        "\n",
        "# Optional dependencies:\n",
        "!pip install pyg_lib torch_scatter torch_sparse torch_cluster torch_spline_conv -f https://data.pyg.org/whl/torch-2.0.0+cu118.html"
      ]
    },
    {
      "cell_type": "markdown",
      "source": [
        "# 数据属性\n",
        "图用于对对象（节点）之间的关系（边）进行建模。pyG中的单个图形由torch_geometry.data.Data实例描述。默认包含以下属性：\n",
        "\n",
        "\n",
        "*   data.x：图节点的属性信息，比如社交网络中每个用户是一个结点，这个x可以表示用户的属性信息，维度为[num_nodes,num_node_features]\n",
        "*   data.edge_index：COO格式图结点的连接信息，维度[2,num_nodes]（COO格式：用邻接矩阵存占用空间大，只存有连接的）\n",
        "*   data.y：标签信息\n"
      ],
      "metadata": {
        "id": "otO9gvrX_Nfp"
      }
    },
    {
      "cell_type": "markdown",
      "source": [
        "# 图的数据处理\n",
        "![1d4b4c554e8ac2ad4d305230944a4b5.png](data:image/png;base64,iVBORw0KGgoAAAANSUhEUgAAAgQAAADYCAYAAACUYfvrAAAAAXNSR0IArs4c6QAAAARnQU1BAACxjwv8YQUAAAAJcEhZcwAAEnQAABJ0Ad5mH3gAAEj9SURBVHhe7Z0JtFXFlYazuleS7nSnEzVTZ+o2c0y6s2LHTkdjYjQOiKASFEQREI2CiqjgDKI4i7QTOIEIKqCIgiCggqIiAqIGBWQQBCcmcUqMSRyq37fp/SyP5z7ucN57997zs9a37uOcOnWmOrX/2rWr6hPvvvtuEEIIIUS+kSAQQgghhASBEEIIISQIhBBCCNGABIEQQgghJAiEEEIIIUEghBBCiAYkCIQQQgghQSCEEEIICQIhhBBCNCBBIIQQQggJAiGEEEJIEAghhBCiAQkCIYQQQkgQCCGEEEKCQAiRI957772PkZZOiDwiQSCEyAUY//fff/8jSBAI8SESBEKIuuZvf/ub8Ze//CW8+uqrYc2aNWHVqlXh5ZdfDm+//XZjmuRxQuQNCQIhRF3z17/+1YTA3Llzw8033xxGjhwZrr/+euOee+4Jq1evNrGQdqwQeUKCQAhR16xbty7cdNNNoVevXuHiiy8OU6ZMCdOmTTNBcNJJJ4UBAwaEhQsXmnDAU6BuBJFXJAiEEHWHdxO88cYbYfTo0WG33XYLp59+enjhhRdsO/EDf/zjH8OkSZPCPvvsE3r27BlWrlyZmpcQeUGCQAhRd2D0//znP4d58+aFtm3bmiB44oknrPX/zjvvNHoCNmzYEM4555zwgx/8IAwbNqyx64D9yTyFqHckCISoAzBgTqF9ye31zqZNm8KQIUPC17/+9XDssceaRwDPAF0D7HdxcOedd4Yf/vCHoX379mHFihUfSSNEnpAgEKIGwZhBLARiSFNoW5xPvcKzWb58eejSpUv42te+Fi699FLbhrH3Z+DPb86cOeHXv/51+P73vx/Gjh1raRRkKPKIBIEQNYobelq+r7zyikGfOcbMA+R8H0Ps3nrrrcZjMYZxXs2BX1+WpJ0nJk7HqIJdd901bL/99hZAiKGPBYHz9NNPh44dO4avfOUr4dxzz218fnEaIfKABIEQNQhGjT5yhszNmDEj3HrrrRY8N27cuPDss8+aK5wAunvvvTdMmDDB9k+dOtUi7tPyqxdcEPBsCBjcYYcdwve+971wyy23mBhIE0IEE/bo0SN8/vOft66FzZs3N3oPkmmFqGckCISoQTB4ixcvDiNGjAhXX311uOOOO8KoUaPC4YcfHk488cTw6KOPmgi45pprrI+cCHui6Wkpc2xLGDxa2ZyrUpg8iN9irpc0tPDffPNNG2r4jW98w+IDeAYffPBBqiB47rnnwhFHHBE+85nPhE6dOoW1a9eaeJCXQOQNCQIhagg35BixK664wrwCGDA8AkTMDxo0KHz1q18NnTt3Dpdffrm1fp955pmw//77h89+9rPWEqYFHPeTk6cbyjSDWQ7r16837wTXhzBhQqBKGD9+fHj88cdNGMTXm8QFwWuvvWZCabvttjMvwV133dWkIOC5fOpTnwr77ruvxR5IEIg8IkEgRI2AMcNQvf766+G2224LF110UXjppZcajSDxA8OHDzfX94477hgeeugh20dfOt6BnXfe2YbWEVdAXuzzPN1QIiz+9Kc/fezcxUKegPfi1FNPNSGCOKGPvhwOOuigcPDBB4dDDz3UvB3cO9fLudKMO+fmHhA9CCKeRbGC4JOf/GRo06ZNWLZsmQSByCUSBELUEBgq4gYuueSS8MADD9j/caljBBlmN3jw4PC5z33ODCj/xwDyS5wBRhEBEeeHAeV4WtTEHkyePNmi7uM05cA5H3nkEcuP6YGJX6gEZhb8wx/+0OghSDsnZCEI5CEQeUWCQIgaAoPGiIH777+/0eDjHQCCCI8++miLlsd7gEGLuwUwcrFBZD/i4u677zaX/Jlnnhl+9atfhaFDh37EGKYZ0UKQtrlJO6+TFATbbLONCQICDOUhEKJpJAiEqBHcIGKoMHpswwAChn/RokVhzz33DN/+9rfDxIkTzah5MB7HAH/7cRzDHP6M0b/qqqvC73//+/DNb37TxIQLiXLgGj1/rtN/K8UNdFOiwM9L18K1114bvvSlL1lQIc9ja0GFn/70p62Lg/9LEIg8IkEgRI3ggsCJ92H4casz5n6nnXayaXoxahjSOG3yOOIOCErE68AIhO985zvhwgsvNGOYdp5i8GMwzo4LkjTidDHJNJ53U9fkxxEHgdcDccQ9jRkzxgQBzyR5jA87JOiye/fuNjSTdH5OIfKCBIEQNQTG0I1ebLA8qn7bbbe1QDw3aqRjP79pQ/fcwDJpEYIAA+qCIE5XKiw3/Nhjj1n///Tp0y2OoCkQMzHJ7YxYWLJkibX+mxIEwD2SjmMIrvz3f/93C0jkuNjQez6MwiBwkREJ/fr1awy6jPMUIg9IEAhRI2CkChmqNWvWWPzAF77whXDWWWeZQadFjPGDF1980eYmwPB7Hvyyj7QuCGIPQfIcxUKeS5cutevo0KGDTR+MSGkKDHIS387cAF27dg033HCDzS+Q1sqP4fzcG0GI++23n61lwJoG7EsKAv7mueyxxx7WXcJQTt8e5ylEHpAgEKKGwFATPMiQQqbcpSWM8WKMPtP00hr2WfnccGJEifbHg5CcvphjY0GQ5iEgnf9dLMyJQAudOQgYIskMik2Be78pbr/9dlu5EC/H1gQBcM2MqOjfv3/48pe/HE4++eTGY2NBwPPDE/HjH/84/OxnPwv33XefpalEEAlRq0gQCFEDuOHG0BIE+Mtf/jL06dPHRhpg8JmxEMP3ox/9KDz88MON3gEMHsGGLPGL6x5jF7vdixEEpUC+wHm4hiz/FYoBSOL3RhwBIyh+8pOfNE44xD7iKjwdwYcEVOId6N27d9i4caNtlyAQeUSCQIgawI07Ro2hccw1QBcBCxctWLAg9O3bN/z85z8348c0vRzD/AIMocPVjtHzGQq9hez5FhIEGEY3rqXgx3GurCnmekjDfQFegjPOOCP89Kc/tWfgiz+Rhl+eHRMnMdzSvQNpeQqRByQIhKgB3HAzGuCUU06xWQevvPLKMGvWLPtlBkLWM6C//vjjj7cuhdmzZ5vnAEO/atWqRoMaG9VCggBjyf5k+lqDe2NoZa9evSwWgYWeiG9gaCGeFOIc2rVrZ88p7k4RIo9IEAhRI2C8cXcTLEfwG0KAsfYYOYQCXQfMXohBZ9/IkSPNW8CwwkJGPSkIPKjQBUEt42KGZ8ZIAp7ZwIEDw3XXXWdrLFx88cU2GRPPiK4D0vI80vISIg9IEAhRY2DA6etesWKFGXu6BtzwYcgZgsioA0SCz0NQyNCxnWMQEwiC7373uyYIPC/OVetGkusH7pFATLwnwLBInpPfY63fpxCVIkEgRA3irV9na/uSaeJt7iHAo+AeAjeQtW4kk/ftz8SJ9wmRdyQIhKhBMNQY8rQWvO9ryqC7QWQSHoYx0g3B0smsg3DMMceYi53WM4GInj6ZR62RfC7x85M4EEKCQIiaxY16mjErxsBhCAmuY5w/cxQcddRRNpfBIYccEi677DKbzwC3enL8fi0TP7NinpEQeUKCQIicgoFnBkMCERlyx0RCrKLIL8slz5w50/rcEQQYz3oQBEKIwkgQCJFjMPQ+xr8QaccJIeoPCQIhcg4t/0KwX651IfKBBIEQorFPPSYtnRCifpEgEEIIIYQEgRBCCCEkCIQQQgjRgASBEEIIISQIhBDZkByh4DMBxrMDxqTlIYRoPSQIhBBl09TohEICoFB6IUTrIkEghCgbDDqTF33wwQeBf/zNKoksJ7xu3bqwevVqg5UXWYXRp0EmPfC3RIEQ1YEEgRCiKOLWvhvxP/3pT7YI0oIFC8LkyZPD6NGjbRll1kI4//zzw+mnnx5OO+20cM4559i2a665xtLccccdYc6cObaWAssSx96C2JsghGg5JAiEEEXhhppW/sqVK23NA4x/v379Qrdu3ULnzp3DQQcdZL/du3cPvXv3DieccIJx7LHHhh49eoQuXbqEjh07WhqOYd9VV10Vpk2bZusmsPpi8nxCiJZBgkAIURCMMkGB/I0QWL58eRg3blw4+eSTw8EHH2wCoGfPnrZ0Mq3+hx56yFZIXLRoUVixYkVYu3atgScAgz9//vwwe/bsMGXKlDBkyJBw9NFHWx6/+93vTECMHDkyPPXUU43CgPNLGAjRMkgQCCEKgjFGCNAtMHHixHDccceF9u3bh169eoXhw4eH6dOnN7r9PX0hIx7vg7fffju88MILYdasWeG6664zT0OHDh3CEUccEUaNGmXi45133mnMS7EGQjQvEgRCiI/hRptAQJZEJhYAY01XAK14RADp4sBAPAkYcCCwMInv8/0cz7HAuViK+fbbbw/HH398OOCAA0Lfvn0tLmH9+vWN1+TXJ4TIHgkCIcTHwPhu2LAh3HjjjeHAAw80tz59/YsXLzaPAfvTWuweHOikbY/TJ0Eo4I0g8JCYg3bt2lkw4vPPP5+aXgiRHRIEQoiPgLGn3x8BsO+++1qLfe7cuebiZ7+3+OMW+9YMfRrxMeTl+fJ/RAdxCIxO4BrOOuussGTJkoJCRAhRORIEQgjDXf4Y4gEDBoR99tnHhg6uWrXKugZI4yKgOY0y53DDT3cB8QX777+/jVR45JFHTCxIFAiRPRIEQggzwN4q79OnT2jTpk24+uqrrdsA40s/P+la2hBzvs2bN1tsAcMVDz30UAtC9OuQMBAiOyQIhMg5iAFc9QQKnnnmmeaiHz9+fHjrrbfM4Pqww9bAvQUMQ2Teg65du1pg4xNPPGH7JQiEyA4JAiFyDgb/lVdeCZdeemlo27ZtGDNmzEcmCKoWECgzZ84MnTp1Csccc0xYunSpCQIEQ1p6IURpSBAIkWMwpq+++qqN+ydmAFHAOgTEErSmZyCJezEQBRMmTAj77befeTMYqpiWXghROhIEQuQUWtcYWGYNxMCy5oAb2GoSA8C1Ops2bbJAw7322itcccUVtp4CaeQpEKIyJAiEyDG43Y888khzwy9btsyMarUaVsQAv1wfMxwyFJF4B0YeEPRYbSJGiFpDgkCIHILxfOONN2ziIVrad911lxlVugrS0ldC1iKDvLh+1kVgkSTWVaDbw/cl0wshikOCQIgcguFnEaHDDjvMpggmbqBWWtkuCBiOOGzYsLDnnnuGe+65p3EKZPckCCFKQ4JAiJyBwaRFzUyEe++9tw3nY+KhLAwpBtkNtrfW4xkIs8LPwfDDww8/3BZdYhIjiQEhykeCQIgc4UYa74C72+k6yNKQxqLg5ZdftsWRHn/88cyNNefAs3HTTTfZREqTJk0K/PNJlIQQpSFBIEROwIDSUmdNAobuMczQXe0Y73INth9H/sxfgPeBtRAI9jvvvPMs8I/hjJwna+HhXR/MYNi/f3/7P94O9qUdI4QojASBEDnBDSiTEA0aNCh06dLFovUx1JW69Mlj3bp1YezYseGCCy4IgwcPNjf+DjvsELbbbjtbPrm5BAFeiIEDB9p6B8y2mMX9CJFHJAiEyAluQJ9++ulw8MEHmyjwhYIqbVFjhPEKDB06NJxwwgm2KBJ/77LLLuGLX/yiDRFsDkEAeDzGjRsX9thjD+s24BzcZ9oxQojCSBAIkRMwnkzic/fdd1tk/sSJExtXMSyX2MAjLpjY6Pnnn7fJg1iumFb7F77wBZtVMGtB4HAPCxYsCAceeKB1USAG5CEQonQkCITICQgCDPWQIUNCu3btbFKiSgVBGt5yX7x4sa2NgCBoDg8BkB/5rlmzxmIIevToETZu3Nh4nuYQIELUKxIEQuQEAgdpwffr1y8ccsghNroAY8q+Sg2nH885aKHjLaBrAkFAl8GAAQOaTRDAa6+9ZsMo8UisXLmyUehkfT4h6hkJAiFyAq123PkE+/Xq1cvc6hhMtrM/S+OJMEAQMMKguWIIgPyArpCbb745tG/f3oY4NofnQ4h6R4JAiByxYsWKcNRRR4UzzjijcZsLgiyJBUFzdxkAHgliIvAQ3HfffRIEQpSBBIEQOYJ+/W7duoXLLrvMDLT392dtqFtaEHA+hMDvfve7cNttt0kQCFEGEgRC5AA3xETjM0PhyJEjzUBjSGtZEICLgrlz54aDDjooXHPNNXautLRCiMJIEAhR57jB5O9HH300dOzYMYwfP75REHia+JhKQGBsTRBkeT4gv4ULF9r8Cu79YHtzdIcIUa9IEAiRAzCY4B6CUaNGmdFsLoPZUh4Cvy/+Ruy4h0BdBkKUjgSBEDkBw/nMM880xhA0h3H2v1taECBsWLWxQ4cOiiEQokwkCITIEcuXLw89e/a0eQGyjh0oRhDE6bPABYGPMjjggAMal3NWd4EQpSFBIEROwECuXr3a5iBgLgKMdpZGujUFgc9DwAyM8+bNkyAQogwkCITICRhpVjc86aSTbKXDt956K1PXejGCIE6TBS4IXn/99TBs2DATBHhB/L6yPp8Q9YwEgRA5gRYz8/xfdNFFYb/99gvLli0zw+lGNe2YcuA8zIIYCwIWN4rPkdX5yAehwUqLp556ajj88MPDhg0bGvPP8r6EqHckCITICRjqP/7xj2Hy5Mlh7733DnfccUejIEhLXy4uCAhgRBAUWssgi/OSB/kyeoKAQpZdZi0FPBRp6YUQhZEgECInYKgxlosWLbLheeeee64Z7qz69smf4D66IlhsaPbs2WGXXXYJ22yzjcUsvPrqq9bXD1ktT+znnDBhQth9991N5CASuM+shY4Q9Y4EgRA5wQXByy+/bC123OvEFFQagIfhBQz+jBkzwogRI8K1114bTjjhhLD99tuHbbfdNuy6665h6NChNv/BmDFjwhNPPFGxweaaERbr1q0zccM6Bs8++6zly3YJAiFKQ4JAiJzgBpQW+rhx48Kee+5p8//jIajExe6CAMNMpP/gwYPNdX/aaaeFPn36GH379g0DBw607cQwPPjgg5kIAg9eZDlnBAiCh/upROAIkVckCITIERhQjCV97iwExKqHb7zxRqNRTzumWHDd431gaCNBfngfXnzxRYO/16xZY/tYghlvQloepcB9vPnmm2Hs2LFhn332semY+ZdVF4gQeUOCQIicgMH3lvOmTZvMhY8hnTVrVkXDD2MhgTEuBj+mXBHi3gHiIZhoibkVECOVihoh8owEgRA5hK4D+vFxtffr18+CAGPBUAqtYYQRA5s3bw7XXXdd2GuvvcKkSZNMaJRz/UKILUgQCJEzvHVNVwEBgHgJpkyZYga13Oh8jimVtHyKgevnOufPnx8OPfRQi09g7gHfl0wvhCgOCQIhcgiGE6O8ePHi0LVr19C9e3fr268Fg8p10z3AyAK8A6xdgJhB5KSlF0IUhwSBEDkFw0pQ3u23324zFzICYP369bYd41pJK7654JqYppihi0x6dOGFF1rXAfvkHRCiMiQIhMgxGFFEwPDhw621zXoADEusRuPKNTHTIvECrFlA7AOjFtLSCiFKR4JAiByDkSXA8KWXXgrnnHNOaN++vU1tXG0z/XGdCJWHH37YJlTq1q2bTY1MVwHXn3aMEKI0JAiEyDl0D2BUlyxZEn7/+9/bOgd33323GWBEQWsaXL82PANMhUy8A90b/J2WXghRPhIEQuQcjC7G/7HHHgtHHHFE2HHHHW2tg1tuucUmEGrN7gPOzZBIAgcJfNxpp51simIEy9tvv92YJnmcEKJ0JAiEyCkYUsQAhhUxwAQ/HTt2DNdff304/fTTrZ+eyYuYZdCj+KG5DbBfF38TMMhMhMyXcMwxx4Qbb7wxHH/88SYKiCVgdsSWuCYh8oAEgRA5xj0DRx55pEXtM+KA1QpXrlxpow7atGkTzjrrrPDkk09aWo5pidgCRAoLFV155ZXhwAMPDCeddFLjNTzyyCMWQ8B279rgGIkCISpDgkCInOEtcPrmWdOAbgLEwMSJE20YoqdjrD+jDw444AAzwCNHjgyrVq0ybwG4MCC/co2xt+7JizzZxiJJLGPcu3dvC3JEmKxYsaIxPQKA4MIePXqYFwNR4HEOEgVClI8EgRA5w43qvHnzLIiwbdu2JgbY5gYVAw247DG4xx13nLnpjz32WFspkYWKWP8gFgYuMvhtCk+TPNfGjRvD1KlTw5lnnmkLL9GFweqJCBMXC8BxeBAQBQgVRAMzLdJ94Ps9rRCieCQIhMgRGGKMKdP+HnXUUdYlcOeddzYOM4yNKf/HELPvueees8mAaJXjTTjxxBPD6NGjw0MPPWTiwD0LxRhj0vh1MNyRa0FknH322aFDhw6hS5cuNh8Cyxp7yz8Njp8zZ44FG+IpYLikRIEQ5SNBIEROwLgyfA8DjGeAljWueYyot/IL4cKAsf/XXnutiQlGIjAnAGsJXH755WaQEQiPP/64DWFEKLDGALAE8tKlS8PChQstDZ4A8unfv7+JDNYkoOtiyJAhFtPAdbr3oZBxZ7uLAjwFiAL3FHCvEgVClIYEgRA5AeOJsaZvHs/AhAkTGlvUWwPD7KIBY80aCHQlIAToRujcubO17jHsBCgyEuC0004LAwcONM4444zQp08fEyKHHXaYdQkwouHoo48OF198cbjrrrts9UWGGJZiyEnrMQXMUcA1IAoIjPT9yWOEEOlIEAhR52AUMfy0vBm6h9HEM1CKmx9I533/Lg4wvAT83XfffWHUqFHhiiuuCJdcckkYNGiQDV3EewCnnHKKdQlcdNFFluaGG24ww40ngVUX/Rr4TcYYFMKvgXSIAjwPeBm4PwQGwkWeAiGKR4JAiDoGo4kYYDQBQXosdeyegXIMpRvhGPIBjwtg8SHWR1i7dq2JBWDNAUYPEKSI8XaDHxNvS55ja3AM+dJ9wH0iCnxIYto1CyE+jgSBEHWGG0AMLC1kYgZoOTPlL54BDLbvj48rBz+Ht+rZxvkdT5fchgGPj0uKgOTxxeCigO4Dj3GYPn265V9qXkLkEQkCIeqI2ODSWncx8Nvf/rZxNIEb4OYykuTdFMn05Rj/QpA/ooDJi/AUIAruueeeqlusSYhqRIJAiDrBDR4Gny4BxAAR/HQT4BlAIOTBKCIKuFc8BQxJZEZD9xT4/uQxQggJAiHqCoweLWSfdMhnIEybZ6CecU8BooBRD4yCYIEkhBLdFBIFQnwcCQIh6ggMP3P++wyELABEa9lbx3nCPQV0H+ApYZjjjBkzTBT4/uQxQuQZCQIh6gAMPi1fxvIzzTDrDxAzgEHE8LGPdHnsR2f44YMPPmixFJ06dbLuAw9olCgQ4kMkCISoUTDubuBp9f7hD38IvXr1avQMsA2hkHejxzNgvgSPKSDQkHkT3FMghNiCBIEQNQzGjm4CZiBkdkAC6NwzwH73DOQZ95AQU8DkRQxJPOSQQxo9BXmKrRCiKSQIhKhREAMYfmIGmIGQeQbwDMRD7PLYRVAIjD7PC08Bax8wedG0adPsOaalFyJvSBAIUUO4gceI4fL2mAHWBvAljCUGCoMooPvggQcesO4DnpuGJAqxBQkCIWoM3NweM8CCQQQQMk2vdxPIqDUNz4dAQzwFBBoy+oAhiTxXhIGen8grEgRC1Aje4nfPAKsWxjEDcn1vHX+GGH2PKaD7gEBDFwXJY4TICxIEQtQAGDDAYBEzwJLD7dq1s1X9MGykkSAoDfcUzJ492zwFvvaBiwJ5CkTekCAQokYgWJBugqOPPjq0b9/eugl8aCH7FTNQOrEo6Nq1qz1XPAU8Sz1PkTckCISoUmL3ts9ASMwARgvPgLdkEQQyXuXD8/PJi+g+8JgCnjvPVZ4CkRckCISoYjD6xAcsWrTIugkIIJwyZYoJBE8jMVA5GH0fkoingCGJCATEAs9aokDkAQkCIaoYjNRTTz0VTjrpJAsgnDBhgmbYayYw+ngKGJKIpwBhcP/99zfGaEgUiHpHgkCIKgPDA3gHEAN0EzBefvLkyWawfH/asaIyeK4IAA80ZEZDRAFeAt6HnruoZyQIhKhCMECIAboJ3DOgoYUthwcasmokngJf+0DdM6KekSAQogpwQ4PBpyXKaALEgAcQMrserVMFELYM7ikgpoC1DxAFs2bN0vMXdY0EgRBVggew4RnACDHPgM9AiIECGaOWg+eNp8AXROrcuXPj6AMn7TghahUJAiFakdgzgBjAM8CqhW3atLEZCPEWkEbGp3XguSPIEAXEFHTp0iXMnDnT3pXvTx4jRK0iQSBEKxN3E7BqITEDDC1Un3X14N0HxBQQaIgoQAwo0FDUExIEQrQSbuxpbS5evDiceOKJoW3btrZqIdtkaKoH3gWiAE9Bjx49wqGHHmoxBfIUiHpCgkCIVgLPAIYEMeBDC4kZ8KGF7E87TrQOvBPeDRMW9ezZ00QBf7NdAk7UAxIEQrQSGJFnnnnGJh1iNAGeAVzQLhTSjhGtC+/lzTffNE8Ba0p0797dug/UvSPqAQkCIVoYDD64Z8CHFvqMePIMVC8IAt4PgYaPPPKIjT7AU8DshuyXKBC1jASBEC2Iu5effvppixkggPD222//SAtTRqX64T365EWIgsMOO8xmNJRnR9QyEgQi17SE8fVz0LKkS2Dp0qUmBlioCM8ArU2JgNoD4++BhsQUMCTRYwp8f/IYIaoZCQJRl2Bg3chSMbub3o1y/BvjlXh8fBaQN4afoYUnn3xy6NSpk61N4N0EonbBU0D3ATNLuqcgWZ4qJS6LaeU5SfL8WZZlUb9IEIi6I1n5uXHfWqVYbLpy8G4CjxlADNBNQKWdll7UDhhd3uWjjz4ajjzySJvmGK8Bhjktfal4eSxFrHqaraUTIkaCQNQVccvo/fffb6wUqZyptN94443w4osvmtue1vrKlSvDunXrrJXnQ8c4zo/1/Mo13H4sYuCEE06woYWTJk2y8/n+5DGitvAy5pMX4SnwtQ8oT07asWmQF78cE5c9Pw/bKaucb9OmTWH16tU2WoUg1RdeeCFs3rzZvFGUedJ6WSYP9x6Ucj0iP0gQiJrHK0qv9ADj/9xzz1nQ14gRI8LFF18cBgwYEPr27WtTAzPjHMFgzAxIq71///7hnHPOCf/7v/8b7rjjjvD444+HDRs2NOaZzL9YqIARH5yXtQmIGaAylxCoH7xsYGS9+4CYAkQBf3ua5HFpeF4O28j3tddeM1HJPBVXXXVVGDx4cDjttNOsXPXu3dvKMsMgKdsMYz399NPDBRdcEIYPH24rNSJ8GS6ZPI//XwiQIBA1jbd0aAXxN60lWuCXXXaZVZIdOnQIHTt2DN26dWsUAKecckoYNGhQuOiii8KZZ55pAX5Upu7upRVPH/+pp54aRo4caaLi1VdfDfzz8ySvw/FK1lt2tNqotD2AUEML6xPeO+UCAYgo8HkKDj/8cBMFH3zwQdEGmHSUM1a4RJiOGjUqDBw40OITKEcMc6Sskj9iFuN/3nnnhfPPP99EwnHHHWdlnTkSDj74YCv/pEcg3HbbbeYZw4Pg19RUeRb5QoJA1CxUZFRoVMLLly8Po0ePDr169TIRQEWIIR46dGiYOnVqeOyxx8ytumLFirB27drwyiuvmLv1pZdeMhHx7LPP2iqDuHzHjh1rLTAqUYYFMnf9GWecEaZNm2buWM6ZVpGyjV+MPR4KPAO01vbbbz+bdIhtnsZ/Rf1BuYhHHyAK5syZY/sKCUEvSwgBWvKICAw4ApUyiBjA8OPtYiTDk08+aeVr1apV1k2ANwso23gDEKILFiyw1RmvueYaC2RFSOy///4mFK644grLw8sk5/fvKXltIj9IEIiahcqVeADG8dMiwiWPCLjppptsohi6DGhleR+qV3rJfJLb+RvDj0Ag+I9uBCp1ggHpdsBjQCvQ8+QY/vbKFIGyZMkSEwNU5ogBDIQq23xBK9xFgQcauiCg3Hh58PJHmVq4cGEYMmRIOOigg8xTRcufVS8RtC+//LJ1N1Ge4+P8fE68nXNwHc8//7yJ3Ztvvtm8YohmhknecMMNJpLJ14+N8xL5QoJA1BRe2WFgCdrC3U/lRlcAQoDWEQaZipCKMykGqJD973ibb+cc8bH8n0BEKuRLLrnE1sSnO4EuiWXLljVW6n4858YTQUwC14UYoEL2a+dX5AfKqU9exPLJtO4pI17mvNysWbMm3HjjjbZwEmKALgKmRPY4lrgse3n2Y5uCa/Dj+eUYRDTdV3w7iA6CIImb2bhxo6UnTXwPIj9IEIiagQqOSg0DPW7cOGt94wa9/vrrrUVOC8srQYf08f+LIe0YKnHiCGjlXXjhheZ6pQ93/vz5lp7zUpEiEnxoIS07rkkVbL6hDNA6pzsLdz1/e5mgXNFdRUwLZYpugXvuuce6smKDnsQFQiwS0rY58fWQL10FdDeMHz/eghIRBnQj0P2QdozIBxIEoqag7x8Xfps2bayFg0GmW8D3U9EmRUGSUis7N/b+Ny0puimIUyC+YMqUKXYN9Nv269fPPAMTJkxojOqWIMg3lBlEAXEBtMbpQqD1T/kgtoCRARjkYcOGWTwLxprjKDdediizscEvBzf0XA/wN96rRYsW2Sgcgg/pEqMcE3AY34PIBxIEoiagAqM74Kyzzgq//vWvbYggMQJUdF7BpR2XNX4eBABdFriB99prr3DppZdahDetPIaG4Sr2eQ2SeYj8gWGnzOAdwLNEuUHY4jFADCAgCXIlHV6DZLlxQeBGPQvIl/NwTuIT8LQhZhmlgNBmn6cT+UCCQFQ9VEyIASb22WeffSxqGpdqvD9O39xwPqB1xbAwggd/8YtfhF/96lcWx+AxA966E4Ly4qKAeQGIQ9lpp50s9oWpjtnuabw8x8Y4NuLl4nnE+DnZT7wCni9GNDDChpkXPU0yL1GfSBCIqoWKiNYSrZezzz477LrrrjYk0F3x7KfCSh7XklCZIlYYpvjf//3fNm+BX5cqUuF4WcZzhADAK4CXAHd9tZQXroGuDWIYGIHA5F1MhsR1qSznAwkCUbXgImX43+WXXx522203m3WNlpS3olpbDADXQdcA3RcEE+69994WVc61YwDSjhH5g3JCeUAAMOKA2JO5c+c2dnm1ZFkudC7f/vrrr9uoAyZBYrQMQxb9+pPHiPpCgkBUJRh9WlPMrIYYIGaAPlYqJvZVgxgAvx4qS/pdGTZG64pJYVSBCoeywHh/PF2MjmEESjwpUNoxrYGXZ741hkESE8O8COvXr7ftaceI+kGCQJRNcxplKkv6MGmlEJnNOG22V3OlhIBhQiQmSKJvmPHePCMJg/zC+8cLgEHF00XZIM7Eu72qRdgC1wIuCojTYe4NRMGtt95q5biarjdv+Pvxv5P7s0CCQJSFt2qo7CC5v1IYD00QIdP+MtEPw6Cybkll8VHFHynXR5fGLbfcYl0HxBNQsfoscCJ/UDYwpMQNEMHPKBlW12Qb5SXrMpgVLgqYHplpj5mpk5k7S1mTQVRG2nNmG/Vtc70DCQJRNBRCx/s+6eNnJbasCikVJVH6LFD085//3OIGXHBkkX98D2n7SyWZF3/TsmJhJCYnokJle9ZiRlQ3cZlgfQEmHGKcP1MTsw+RGKepRiizeL2mT59uYobFwPi/f/tpx4hsoGw4PG+HBgfzoDRX+ZEgEEVB4aN1ABRMhADDp5gXnWlQs5rIhIJOEBOzujELIZVpFt4B/3jIB/w+IOvKje4OWoTMT0D/q1yt+cPfNwaUeIG2bduGK6+8slniBrwcA//PKm88BMAoH9ZUYGQEM3U2xzcjPoTyATxn6in+UW5YpZIp0ylHdKFmXY5AgkAUBa12gqKoEFjwh6VWd9999/DNb37TpvJ1QVBJAeVYd7kTSIiXgHy9cq0E8qZy84+IPlw8G660gf1px5YK+eMWZigiXoLY1ZrFvYjagAqdb4aJfhjb72tfVFoGKF/g+WAs+G5cbHiaLMqz58MaDKyxwKqfvuJnWnqRDTQiEGIEJ+OhYREqytC//du/maeJblTeAe8n7fhykSAQRUGAHHOdE+BHpcAQu+233z5su+225kqsVBD4ccQOMHtbt27dbO0ACn2llY/ngahhzQOGVCE6WA+B1d/wdBD0RVq/jkrOSR6ciwWRcLUSmMUH7i04Ud/w/gEDjXdg3333tVkAKQMuSsspX/ExCFmGuuKdo1sNTxQzH1KmaUmy3oefp5xzxXAvTBnOOZiumymY/XsX2eL1D3UfC6MRvwF0OdEA+/SnP22jVHIrCLwwxwU7WcCb2icqh2dKAcVwYkwxdETT/9d//ZcJAuZBr1QQUFECU7syNfGoUaPMgHoFmnZMsZAHrlsmXCH6H/cn0wvPmDHDlDcih9b88uXLrdKOj42NeFzOCsF+NwaIDOaGZ6QEQodnlPUHLKoP3rG38BguixFl8irKBmWRMlVumeY4vAF46sibIEWE+tChQ80Tseeee5pr/7rrrvvIbJ6VwDVTnvnmGVLL+bg/L+tpxxRDsc+g3GdVi/jzxIPJLKiIArofqXMJsv7Hf/xHa2Sw3kSlzz+NmvAQxAUiWTjyVFhaGyoFWr48c1Zo+9nPfpaZIKDFQ6vmqquusr53FDDbqYySaUuF2df4qOjHZUpWWlBUqmyn0mRIFVMiMwWxr/bGvfLRMbfA++9viTd4993iBQH3Q/54IJjSGDHlgkBltn7x90+5ZRIi5qUgwJRtlCH/LbcMUK5YEIkWIyKA8on3jnKMexlhu8MOO4Sf/OQn1qJnXyXnA+4F6P5gQTFENecjz6SALpb4epq6tkquu9ZxIcYv80Lwzj/1qU+Zh8AFAfvSji2XqhYEXhi8EqVgU6luqZw/TMf/Y3x7ngtTc+EtA1zvWQkCjqGiwy1JMCFGG2PKtrT0xUK+wMfTuXPn8NOf/tRaOX6tnoaoXRYm+s53vmNDBdmOYMCjwLoJuGYbDim6PPl5Yd68eSY26DbgvFl/wKI64TuZOnWqdReMHj36I/UWv+XWTayGSMwOMTwE3Ho+lDXKFmUVo/2lL33JPHicm2uJ68VS8bLMDIbMpcC8BIgS9lXyjXLtXFdand7UvjzA/QPvlGfvdVRuBQE3yy8Pg78p1KhSVCpqiW3sIw0PhZYdQTsEisXH+29z4R9LlpBvc193ufCs+UCz9hDwfmnt4B3AS8A58EakpS0WKisMO0b+a1/7mgXlIDTI258190M6AiURBFR2VLq47BAEbH/iiSfCM89sWRI2Lndbg7RU2rSomLdewVj5gXdNnz5eKVruXnaA8ldKOfDjKHcsm8zkRiyzTV3Ifsqwwzczbdo0W1fjs5/9rMXiMGrHy3wy72KIj2Opb85PVxv/55y+rxg8L/++qbdXrVplz8vTcK++j28RIeLbPU1zwjVmTdp5ioHny/G59xDELx8hwCpc1157rfWNsdQslTUVOQ+KfhaCdmjNoWDpe+F4Cl2cZ5Y0Z+FsqYJfDhROnmuWgoBj6OPHvc7cAz7HeyWCgDxxt+F1YLlZrnPgwIGN15mE8eG//OUvTRQwuoHuCypWWkLEAjz00MNhyZKlDdeF29+P4z05H80PeI/kQ7llgqUnn3yy8fzV/I5F+Xj599U5EYO07rwu8nqplPdPWkDMMp0wwbw/+MEPwrnnnmv1n6fj3EBXBXErf//3f29l2tfWwHiUW+44jrLLiBlEBq3V+PssJV/EP8+Hacmpz6+++mqLS2AkA/UAQ+qIVUJ0UKeThm+He/Pn2BzE98DfTpwmua8Y/JhkPsUgQfD/+I2igiksFA7Wn8dYEOVO4BmFZsyYMVagCEajz+zHP/6xuZxRlRRg/0Bj2Ob5l/uiOM4LJwWc/LIg7XqLhWuqlLR8Y/yjzEoQ+LvgfeFWZ7ih93ti0Iu5pjTIF8HIdVIp4kKlzzVNEHAuXK1Uol/84hdt1ASGnOE+RFSTBlH68MNzTBRsycOvizLA3+nXSdkgfoEIYYIY/fzl3peobih3gFeJADwC/+JvgvdOeSvl/ZMW8HaNGDEi/Ou//mv4zGc+Yx4vPFCk8fMCxoJAxk984hPWTUarnuP5zko5bwzH+XdC1DtdeyyXzLa09En8GfBN82wYGYHnDrFy7733WvwOCz4RTMw9AtuJiWCVU+Y7Qdxzvvh5xvlzf8nt5eB5ZUXa9RaLH09Qdy4FQVxgMRIYeVr9qEYKEw+HoTZf/epXrTXJQ/KuApbrJAqTIC4KD/9In/wI+L/j/4/3FwPHcD20IpkoAsGCkq0UVLN/aLzscq6tUpo6J8+Ta8vaQ4ACJmKacfv8zTkw6OW+G/LkeATkd7/7XatEeUdcZ/Ij4lyIECrwf/mXf2lo1fVqaNVtCvfdd795CDjGu6y2iIJnG86BC5jK0Pnodfp1cy4ihH/729+agJUgqG+8/BM7wnhxJpLxb5ntvHf+X+r7Jz150K1Ggwe3PQbV10QAzg0sWUwk+t/93d9Z1wFC1I8vt9z5dfOdDBo0yK4BccA2v+em8GujCwCPGYYfMcM27oH/I16ou2kY4EGgjqFOR6R37drVzsd1FDof+8q9P8+Tutdjh7jOQnh97X8n9zvsw0aQb1PXXgjeGcckPQQ+7NDLVVZUpYeABwA8yFNOOcUKETePAWY/Edv0CW+zzTZhwoQJVskiHnBj7bzzztZ3h+sprnzBP0SUNorL9/l5S4HjcOGxUAn9eaxihkErFxQwIC4YrpRmuJqC50V6BwNWKn5cU4WWfTzHrAUBE/kwbIoPnwqCc3At5b4f8sSlSQwAYoDywmiCtOfqFR3n/od/+Iew//4ME3wxzJr1QKMg2JIn8yS8GGbOfCA89dSihm2UKfY1LQhwdyJ0aPWQV7n3JKobypyXfzyWTOSDCKV8UQ547+D1UPL4QsRpqXNoHSIM6MqK93FuRDCBs3jFaBwxBBHjwTn92srBr5vuDzxtzBXCaJ1S8iVOgMYcHl0aeP4cqKuZP4FuEAIh3aOBKMAIEoeB+MFrxzGen18TvzwXGoVcC/+Pz1sMfg+IfgIxsSVeJ1cCdTv5kS/XVer1UW44plCXQbHPvliqThD4DVJI8AwQO8A/Hgzb+B0/fnz453/+Zys8BKR4JU/BR0RQufOw/MGzjwKD14C+YvLlQ8VglFKgk5AvBZs+O6LueUnlwrUDKrgUV3laumKPTVLMcTwrnllWgsDPyQeDQT7++ONNCHAOnm+598J18M75GBGOX//6163SaUoQ4IL95Cc/GXbffY8GEfp8Q8X6oAkC/nEckO+aNWsbts8NS5cuaziW0Qdb7j2G6yYt52I9A0Y54O3iXJBML+oDf+d0N+G2p/6KyzLw/3LLNZBXUrj7eWno0MWKCP7GN75h3yYNIM4Zpy8Vv27yIo6BxY7oTvN7SzvG8fNi4Gl5M/qC//txNAAIJMbri2eDuoVvje8XbwdzLtBI8udHftw/x1FvsCrqsGHDrPsYw+lp/PzFwnHYBOp0zut1ciVQt5Mf+ZJ/2nmbgmfEveRWEAA36u5eKmovzAgCtuOGY8YmVKp3I3Acv/GHwi95kQd9Vrii8DigRHF5UaDSDEQplPOS0yCfJGnp0qCwEV9BRYD6rgQ+LPr4ClUgbGNf1oKAj4bKAGVO/mzz9xenLxaO9T7Xz33ucwUFAflzvlgQ7LbbbxqE5moTBFR6/o/0GzZsDMuWLQ+PPTa/oQK6JaxYgdu0Ic+/kCfXugXy5Ro4FyKP8eh4kcjDhYVfg6gfeK98jwgBBAHCgPLlZc7LW7nlGsgrKQh8G0F/eAW22247WwsE71Sl5wO/bupfur74VvDUsj3+ngpBOtzmjLjwuT44jnugocZ3T5wP3laP/+J8HJvMn2vAO4FL/oILLjDP4k477WQTjHlLnGP4jY8rBo4p57im8DzLydefUW4FQfzQKODxPow/Rvyoo46yoBpaXBQcCkjaA+dhsY0CR0uRgozBw4hRoLMQBBzLdWaFX0vyXgrBPWL4uL+ePXtaRD39bjE8r2IgLcdTifFcCp2PDxVBkMVMhX6fDI0iEt9HApCPv7/kMcXgzyUWBGPHjv3Y+yZ/7icpCJ57blV48MGHwvz5C8K6desb/p5tLZZZMx9oEBbjGyq2hWHatBkNrR73UDVcaxRgSL5cA+eiy4vnSzAs//f7i69X1Ae8V8oJU2MTQ0BAKeXL37eXt3LLdRrkDRhcGkvf/va3zWgQsIc4IU0W5yMPyi/dcIgN+trZRr2Vlj6GdFyjp/X/Ay3pTp062XXT584+f0bg6R3ywCPL90zMFUHAP/rRj2xoL54E0pPGjy0V7pHjs8Lrm3Kuh2N5Rrn3EPiv44UJdUmgDIEmdA9QubKd9MlC5HnwUHGl8aHiAv7yl79sAWQYjKSBKBY/T5Z4vtyH/x2fsxDcP0aHQCb6FpOwvRg8PR9VoUqL98C+5vAQUNBjDwHvpdhnkITr4P3SNUSgYCwIeF5+neTPNgQBldwWQbCbeQjuv29mGD/+9nDvvfeHm24a0/ARLmlomSwKt946tqE8bTbe+TNilHvnmp0t75NzcA/uISAYy59fqc9J1A40XBgKjYcAo+nv28syv+WW60LQuMErQUQ+fe603hEDXjdmAfdB44vzUH8yCoD7KLb+9Pt2eCaAd5MA8f/5n/+xeRb8+0+m9238cm/EDFCnYwewCXiMsxAE8TmzJO1cW4NnyzPKvSDgQVD4vED7/xmrihEiIjWOH/A0GAH3GHhe4IWM/qasBAEfPoWZgBfG0NNKrwT6wFDfvPxSjIbfY9o+8Psvlqby4ppIk5UgAI7hQ8Zo9u7d294f56jkoyZPKgueK9fYlIcgFgR8cMwHj8di3mPzw/XXj2j4+JaGJ598KkyaNDmsX78hTJhwR1i+fIUdR6DhFs/Ah2LABYFfBx8vxoEuHX/Gfn5RP/CuHYwlHgLKHO+bMkeZiEnLoxQ4D/l6PcT56C7AK+GegXLqtkJwHwT2IbKJIaAu9XtLS5+EdF6nc+1sQ8gwhwyrpjLsl/VEyNP3+/35/5OwHY8mgoD6A28w28utO6h7eX6MeqA+hmQ9XQrYBYI8PYi90H0UgvvnmKQgwKvC/ZWa39ao2i6D+NcLHQWDbgLiB3DvUuHzj4dCOlxmqFeMixsotjv8nz7hNEEQpykG0nJ+AhSp7HHXM2FHpRCZSmuZ6yq1UPMc0mCf31+ppJ2D94EgoN+uUkFAep4/EdN9+/a1wEIqnXLuPwnlhUWMCFYiyIqKh3w5p98f98I2FwR0RREdzv83b37NDP9f/vJXu6Zp06bbUMQpU6aGpUu3BD7RVeAiIMavm3ujH5fuEEakcEwl9ySqGy//1DMYaILovP7y9+5lLz6uXCjjePUQ0rjMEQaIAc7H/qzORR7ch48ywPgSTM22rX3zyWuI/+Y7I26AOpkplzF87Of6yRfvGt4O0nEuPw5IQx3hHgKuibrfj4/PszX8HmgI0O2CfcHj4Cuvbg1PG8N23okPmy/nuvw5FBIE7E87rlyqShBwg9w8v7xY+uHoI6IyZj8Phb4mhtPQb8Q2CokrTtxNvl63Fx7ycvh/UhC4oCC9pykWzks0KgWW/jqUYKUQdMN1lXot8X2mkXZMqVD4UPj8TR+eCwJ/FzwP9vvHVQykJV/eLUN0MJwIOxcEacdsDb9froXA1O9///sWsMRw1FgQ8M6BbXS50Lr6/Oc/byMduB4vQ8A1UikRcEngEgGuW87z/8/2vfRr4DiugYmJcCNzrjidqC+87GOkaSgwqyrlqJRvohjID6h/CJQmoI5y5t8n5Q5hQIvZp8yOr8HLZ7H490KXLXE+BGXzzRR7b1wPk8xRn+M9wd3PsYgKhNO3vvUti+9yDwLpqQeZNRQDzXldTMffFiAIqIswwuUKAiA9HguuCWGFNzqtjk6DtEl8O++IfNPO2RQ8VwQfzwMhxiJZCAI8KeTJfp4X95p2fDlUnYeAmwcKxw9/+ENTfkw8xD6GnzAT4T/90z+ZS4cC4gWSFiYFlbHmvNhChdQFAa3BSgUB6Us9phiaK99y8evxa+JZ8XF7lwGCgG1x+vh3a1CgEX20PHbZZZfGude9cisVzss7pRzhgvzNb35jMScsChMLAodz4dbfe++9rWxQAXFu0sVp+Zvt/L3lXNH9FRAEXAOCkYmJcEW6IPgwD1FPeJkh2h+3OiNL3DjFpB1bKnyDRNkjpGlIcB7OzT7OgYDFoDLUmjKe3B/ntTVI7989gpkAZJ+SmTwL5efPA2HC90f9Td2L0UVUIxD+8z//04IC6V4hH39eNDoQ8QhpxA3b4vOQDrIUBKUeUyyl5O1pPT2/NFCIryLGCUHgHoI4fZxHuVSlIODlU+i4eRab4SUjCpgGlCh41CRqyStnlCrR5BgUJrjxQpiWf5aCwPHzZUXaOVoLfyY8ayoDKh7WimAYJ88RFzsKHyVMJYh7HHHG84yPbwrumXdOd88vfvGLxrnXUceVFHSu2bsiaPnjmiS/5DOm8mAimR133DF873vfSx0q5tdRyvWQltYZk03h5qOCkyCob7xsEd9EeaMrkfrLW7dez1Ty/jkWY0+dh3hlngu2xefgb1qRdLESSM126la/vlLP7/nz/TOnBl2bfJ/x/ji940abOQh4FswJwvoOXDNeFAJtMXA0LhA3dMPy3SLQGVbInAc8v2S+nM/zTgoC9nOvpd6jwzPKmrTzFILr5hhEFHUq9S0j5Fg5k9knGd3Fs+Fd4LGkAVXJ/cZUnSDgBfMwMA64WWn1M5EFxp5x8iij8847z/p5CdhgWk68CfTVxUGGhR5OcwiCPICLj4+TeczplmHecT5iPkRavwg4Kgnel8/ux3Mt5pmSjgJNBcaMfsQk8D68VZB2TDG4uORjYvpi8qbC8PMBlQ8tFcoSsQa4eb1SIV0yz1LgHhCr9G3i0qWyY7vKWf3DWHpEM0tfI3DdWEO5dY0fS5cVdSFxA7SwMRp4AWIYNcT5aVXSmOJYyruX6VLO78dQr7phojuXbeTZVF5+LEF1xPBg/BEBzAlCkC3fHY2JAQMGWDcEQXx4NajPCcpDSMT5OJyT6+H8WQuC1oT75Lqpk+i24FnR+GXYMp5OxADTO+N9oquIOpcykNYtVA5VJwj8gVCA6GtiauI777zTDD9zX/Oi6U+i0FCo+MUVS9AGxxcqBL5dgqB0eC4UUBQ94oz3wnAq/nb4KGlZ4x53l38phdNb86wQRzAOxpN3nZa2WPz8BCaxGAueJSoZro3t/r6pYDHarCKH25LjKj23C1vEEV0RzMRWikgStQ3lh++EIYAYN/55uSu3ruEYXMeIgf/4j/+wLlWWC0d0OJQ1QKQj2BGiHg/jZdLzSuZfCI4BjA4eB4w6dQF5FPudcDz1Ns+Exh7Cgj52DDjfPoafEVZ8f9TpeOzwghRq3LGtkCDwfaXcYzXhzxWPLPUp90d9y5TO1LX8DWzHLjJJkzc2/P2WS9UFFfovBZiHgpEA3FNs44b9gdGHRQCa70vm53nx64WaOISvfOUrJghQ8ez3wuNpRTr+DOP/8+wK7S8FKgUKNV4IKjPcYbyPcvOLQcwQcIWrk8BBPiK6lvB64HFiBss99tgjnH/++VbWKj0vx3I/BBJxPyh7KjgXBGnHiPqBd0z9hNubvna6rPBUeR3Fbyl1jddN1HOI7p133tm6U4mlYu0NRl3xS7B1/IvHC48d5Z9z8q16+Svl/BwHuPn79OljKxNS75JH/P03hZ+P58CxkPQAcp1sR8Dw/WztGknDM8FI+jwEiAjfl0xfK8T3zftKI7nf/18pVechAB5I8qHE231f/DCS+3xbvI+/caURcY7L24WE74/TiY9S6nMpNb1XVrwflramVeXdP2npS4F8qXzIm35KXG0EOBGwhMuNCpshgbQusjofFRL50Y9MNwT9gRIE+YB37I0ZyhtTctMdxjdB+apEELByJsLVu+cAdzv4/x1GOCBEOSfHF1v2/HyO3w+juBjlxWyCni55bDFwPZC8Hv6ftj0mvi7f5h4CvHw8cxde5V5fNVDOtWdxv1UpCBwKhtPUPt+fLCi+DeVJPxoGgX4rFkaiADFGnf42+nnJI4sHWu8knzsk98Xpi8WPw31P3yhG1Oclz+q9YKTJk24jd7/R4iIQ0oe2ch2Vno88ECB0ZTGMkr5cNwRp6UV94d8BRhRjRRkgBgqD7sa51DLm6fGiuWd0a9DtSt2XzKMpSEM53SJaPjSsuPsJ6ma4Nt47xG3y2GLwZ+MU2hdvj+FaAO8uHhi+ZQQS3YHEnNG9zPdMnc7zLuaeq5n4mRQi7bhyqWpBkPYyC21L287DomDzYbDsJhUzAXEEJDIBzuDBg03tEryhCrv14X1RgdGXSOAM7va47zUL/APifVNh+//59b+zAOHBRCu0Dj3YtVA5FfUH75lyiyFlQhn63Wl8bDG05ZUDP4ayWwxxeS72fIgAFusCFwR/+9tfrc+aYEI8HsReJY9raTD4xJDh5SNwku5APASIA2ZSpE73LuG040U6VS0IsoACQWuNoBXcdgRgMAaWX6Jz6UMmWNHTJo8XLQcVGK14+gFxtTPklBkR3dWexfvxSpK8HLbFlWe5+PUhagiMosVCZHVyv6h//F1TngkMoyzTAKGF72UueUyxcKwb/KQAiPdB2vGF4XtoEATvNQiC91jdky4Olvt+3kQNRtdFTel5ZwvGHq9vXJcDf+M5QIjVg4egpal7QQAUCgoxhsV/47/5TTtOtDy02qnQUPgs1OKzILKN31r4wGm9EN3N0CAqJra1dgUqWg/6tQlcZS4KgprZhrFKpmt9+LYQBR+E994lfudd8wYw0otrZ+x7tRhZrsHr8bg+V51eGbkQBEAB8oJc6G9RHfA+GAXADGyMOGDoHh94/M6Sx7Qm8fUwNIt5MbhuKlK21XLEs8gGH+XCsFo8YOW14FuChrL8N9jyNy1uJoNjHDwtcoxtNXx/XEOSeHsyvSiO3AgCUVvQzYMLkMVBqEipmBAFGNdq/eBxBzO+mrHhRH0T/MW1undD5A83UAhF5sCgpU2/N0Pr2F99omDLkG6+M7pZGc1AgC/Bkf7tVev3JypHgkBUJVSUPtSpTZs2NrEQw/i8ZVUNlZJfAwYfVyozrjEb4nHHHWeVqYSAcCgLdB8x2oBRBwTMVlsft18L3xdeDGYMZWIl1o2hz17luf6RIBBVCxUUwwFZsAoXPMOe4smkPE3yuJYgrjy5FgJWmeyKiY/cm4GgSR4n8gnlhBY2bvf+/ftbkCGR+61VfpP4dfDLhF14M9q1a2fzdRADwT4JgvpHgkBUNVSkuFeZqIiFj6igEAXsc4NLJdbSFasLAa4BAUAfKy0/pmNlf7VU9KJ6cFHAYjXMtUH3AfNguKFtLQHpZZlf79pAsNDtxTTknq41vjPRskgQiKqHyoqZ/nBhMsUwwYYsa+yVExVZS1RU8Tk4JzEDCADmtMC1ykRXsUjxtEIAZYJyw7BUJtRh9T88SixOgyeMfeBpk8c3B35OYD0Y1tzAM4AXA28Gni72qTznAwkCUfV4hYUooO+VoD0mIWHpTyosb6l7S4vKqzkqMD8P52SdAipyJh5CELBoC4GQaccJkYSywjTErAvAhD8ske2uecoYUOb5f3OUZfKOz8MCYGeffbbF65x77rmNqwymIXFQv0gQiJqByovuAlZLw6XJehS0ypmJkv3JiqoSYZA8jkqTbYgCJrJiCmwqcpZ9ZipXKnivwIUoBjwFTKyDIcbDxFK3dD+xPa3slluWIe1YtiFsWe8AYcJsipRrXznWoVw7fly8X9QPEgSiZsAYUxlRYTJxESvJ0aJhaBRzFTCJirs4EQ/01xYy0uTjJPdxjHsDwLczNwLTpXJeKnCmcfWuC9IXOpcQaVBmKKP00zOFOgsHEZhKvAwtdsqyly3SeWs+La9CZRn8e/DjSUd+iBG64Tp27GhervHjx9saCOwnXRrkV+g8ovaRIBA1BxUTLXJaU1RoLLiC6555zAnY8hYWaalUvWKNifNL7vP07KMSpasCTwTTKRM4SAAh67b7MMg4LyFKgfJDGcMQE2BIS51gQ0QnZQyxgCAgbVw2nWR+ni7Gj+FcxL0sWbLEJs9iJk3WdWH0zuzZszW0UEgQiNqDio2Ki4qUflcCtOj3pCIFln5l1TMqPqKm4+lNi4FzIALwOtByY14BPAJMksSYbIYYIjr8WuJrE6JUKENAmcIzwORWlDnE55FHHmnxBayc6Sv4pZXZpkAELF261Fb4RDTjhaA8sww4sS/MOeDetLg8J4UFxNct6g8JAlHT0PrhFwPOIjIMlaLlQ/Q2Llha9VdffbUFAFL5zZ8/3ypH0hN7QDwAC1xh/BkXPmbMGOsKYCIkvA7Mksi6BOTBsqpUrrEHQYgsoWxh9Fmgh+F/rJhJOaZ/v3v37hZvMHLkSDPutOqZzROhwKyYiGO6sFiAiEmyWOGVxbVYmAgvGnkcdthh4dRTT7U4HFbhRACoPAtHgkDUPF6Z4TFg2WG6DfAQMGfBMcccYwGIeA4QCQQi0kLq1q2bVbD8Ulmynb5U0pKOipjFXIhVYMVFJmvxVpKTvA4hKsXLFoaamBii/TH8eKYw7JRTZsPE1Y9Q4P8IYEbdUJ4x+JRnhCzlmHLPfroF6IJgZAPdED4iRmVZxEgQiLqC1g7QpUC/LK1/pj+eOHGiVarDhw+3uAM8CbSUWJJ2yJAh1jVw8803h8mTJ5u3YMWKFVYhU1l6C0oVp2hJvOwB3QlE/8+bN888WQQAjhgxwtZFOO+88yywlvk5EMHMJcDwXLwAeMUYnku8C90Cnp/KskhDgkDUFXFFRysLYQBUhrj7CZzCvUoFydzyjBxgJkQmhqHS9b5Ujkn2p/rfQrQElDkvd14m8YIBLXyGDNLtRVcBnjFABOPNQszS9eDlX+VZFIMEgahLYjHgFaFXsMnKMN5GWj/W/47TCtHSxGWymPIck3acEIWQIBB1jVeWTVWaMVurYIVobcotoyrXYmtIEAghRB0jkSuKRYJACCGEEBIEQgghhJAgEEIIIUQDEgRCCCGEkCAQQgghhASBEEIIIRqQIBBCCCGEBIEQQgghJAiEEEII0YAEgRBCCJF73g3/Bw+mWliX30IYAAAAAElFTkSuQmCC)"
      ],
      "metadata": {
        "id": "CUTRIpSYDHmb"
      }
    },
    {
      "cell_type": "code",
      "source": [
        "import torch\n",
        "from torch_geometric.data import Data\n",
        "\n",
        "edge_index = torch.tensor([\n",
        "    [0, 1, 1, 2],\n",
        "    [1, 0, 2, 1]\n",
        "], dtype=torch.long)\n",
        "x = torch.tensor([\n",
        "    [-1],\n",
        "    [0],\n",
        "    [1]\n",
        "], dtype=torch.float)\n",
        "#边的特征\n",
        "edge_attr=torch.tensor([[1],[1],[2],[2]])\n",
        "data = Data(x=x, edge_index=edge_index, edge_attr=edge_attr)\n",
        "\n",
        "#检测数据定义的是否正确\n",
        "data.validate(raise_on_error=True)\n"
      ],
      "metadata": {
        "colab": {
          "base_uri": "https://localhost:8080/"
        },
        "id": "CPpZ_3udDMy5",
        "outputId": "c1710892-e34b-482f-aa0a-9d0adf47db88"
      },
      "execution_count": 2,
      "outputs": [
        {
          "output_type": "execute_result",
          "data": {
            "text/plain": [
              "True"
            ]
          },
          "metadata": {},
          "execution_count": 2
        }
      ]
    },
    {
      "cell_type": "code",
      "source": [
        "data"
      ],
      "metadata": {
        "colab": {
          "base_uri": "https://localhost:8080/"
        },
        "id": "xRooNI6CFEBE",
        "outputId": "5bbf052a-d006-445c-c4d8-8e6e70a4aa1a"
      },
      "execution_count": 3,
      "outputs": [
        {
          "output_type": "execute_result",
          "data": {
            "text/plain": [
              "Data(x=[3, 1], edge_index=[2, 4], edge_attr=[4, 1])"
            ]
          },
          "metadata": {},
          "execution_count": 3
        }
      ]
    },
    {
      "cell_type": "markdown",
      "source": [
        "x：3个结点，每个结点的特征是一维的；\n"
      ],
      "metadata": {
        "id": "vIn6BKNNFKah"
      }
    }
  ]
}