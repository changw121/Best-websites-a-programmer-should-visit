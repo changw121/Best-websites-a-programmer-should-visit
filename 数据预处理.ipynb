{
  "nbformat": 4,
  "nbformat_minor": 0,
  "metadata": {
    "colab": {
      "provenance": [],
      "authorship_tag": "ABX9TyNEd72fsnyP0FwSwxnkAZNT",
      "include_colab_link": true
    },
    "kernelspec": {
      "name": "python3",
      "display_name": "Python 3"
    },
    "language_info": {
      "name": "python"
    }
  },
  "cells": [
    {
      "cell_type": "markdown",
      "metadata": {
        "id": "view-in-github",
        "colab_type": "text"
      },
      "source": [
        "<a href=\"https://colab.research.google.com/github/changw121/Best-websites-a-programmer-should-visit/blob/master/%E6%95%B0%E6%8D%AE%E9%A2%84%E5%A4%84%E7%90%86.ipynb\" target=\"_parent\"><img src=\"https://colab.research.google.com/assets/colab-badge.svg\" alt=\"Open In Colab\"/></a>"
      ]
    },
    {
      "cell_type": "code",
      "execution_count": 26,
      "metadata": {
        "id": "qFuPhilpyNMH"
      },
      "outputs": [],
      "source": [
        "# 创建一个人工数据集，并存储在csv文件中\n",
        "import os\n",
        "os.makedirs(os.path.join('..', 'data'), exist_ok=True) # 数据文件在程序所在文件夹的同级data文件夹里\n",
        "data_file = os.path.join('..', 'data', 'house_tiny.csv')\n",
        "with open(data_file, 'w') as f:\n",
        "  f.write('NumRooms, Alley, Price\\n') # 列名\n",
        "  f.write('NA, Pave, 127500\\n') # 每行表示一个数据样本\n",
        "  f.write('2, NA, 106000\\n')\n",
        "  f.write('4, NA, 178100\\n')\n",
        "  f.write('NA, NA, 140000\\n')"
      ]
    },
    {
      "cell_type": "code",
      "source": [
        "# 从创建的csv文件中加载数据集\n",
        "import pandas as pd\n",
        "data = pd.read_csv(data_file)\n",
        "print(data) # 也可以不print，直接用data输出"
      ],
      "metadata": {
        "colab": {
          "base_uri": "https://localhost:8080/"
        },
        "id": "EcgUMXLNzazc",
        "outputId": "c66d5213-e501-4d17-ce2d-8e96cc8b76ea"
      },
      "execution_count": 27,
      "outputs": [
        {
          "output_type": "stream",
          "name": "stdout",
          "text": [
            "   NumRooms  Alley   Price\n",
            "0       NaN   Pave  127500\n",
            "1       2.0     NA  106000\n",
            "2       4.0     NA  178100\n",
            "3       NaN     NA  140000\n"
          ]
        }
      ]
    },
    {
      "cell_type": "code",
      "source": [
        "# 处理缺失的数据的方法：插值、删除\n",
        "inputs, outputs = data.iloc[:,0:2], data.iloc[:,2] # 0和1列给inputs，2列给outputs\n",
        "print(inputs)\n",
        "print(outputs)\n",
        "inputs = inputs.fillna(inputs.mean()) # 用inputs.mean()均值填充\n",
        "print(inputs)"
      ],
      "metadata": {
        "colab": {
          "base_uri": "https://localhost:8080/"
        },
        "id": "BhWMZvXH0CWE",
        "outputId": "c8b14897-1d6e-436f-f4b1-5bb6207f1c7e"
      },
      "execution_count": 34,
      "outputs": [
        {
          "output_type": "stream",
          "name": "stdout",
          "text": [
            "   NumRooms  Alley\n",
            "0       NaN   Pave\n",
            "1       2.0     NA\n",
            "2       4.0     NA\n",
            "3       NaN     NA\n",
            "0    127500\n",
            "1    106000\n",
            "2    178100\n",
            "3    140000\n",
            "Name:  Price, dtype: int64\n",
            "   NumRooms  Alley\n",
            "0       3.0   Pave\n",
            "1       2.0     NA\n",
            "2       4.0     NA\n",
            "3       3.0     NA\n"
          ]
        },
        {
          "output_type": "stream",
          "name": "stderr",
          "text": [
            "<ipython-input-34-fd6f19d24335>:5: FutureWarning: The default value of numeric_only in DataFrame.mean is deprecated. In a future version, it will default to False. In addition, specifying 'numeric_only=None' is deprecated. Select only valid columns or specify the value of numeric_only to silence this warning.\n",
            "  inputs = inputs.fillna(inputs.mean()) # 用inputs.mean()均值填充\n"
          ]
        }
      ]
    },
    {
      "cell_type": "code",
      "source": [
        "# 对于inputs中的类别值或离散值\n",
        "print(inputs)\n",
        "inputs = pd.get_dummies(inputs, dummy_na=False)\n",
        "print(inputs)"
      ],
      "metadata": {
        "colab": {
          "base_uri": "https://localhost:8080/"
        },
        "id": "2D9iJ2c-1ka4",
        "outputId": "509813b3-1606-44bc-93ee-00e6ad6d0a5d"
      },
      "execution_count": 35,
      "outputs": [
        {
          "output_type": "stream",
          "name": "stdout",
          "text": [
            "   NumRooms  Alley\n",
            "0       3.0   Pave\n",
            "1       2.0     NA\n",
            "2       4.0     NA\n",
            "3       3.0     NA\n",
            "   NumRooms   Alley_ NA   Alley_ Pave\n",
            "0       3.0           0             1\n",
            "1       2.0           1             0\n",
            "2       4.0           1             0\n",
            "3       3.0           1             0\n"
          ]
        }
      ]
    },
    {
      "cell_type": "code",
      "source": [
        "# 现在inputs和outputs里面的所有条目都是数值类型，他们可以转换成张量格式\n",
        "import torch\n",
        "X, y = torch.tensor(inputs.values), torch.tensor(outputs.values)\n",
        "X, y"
      ],
      "metadata": {
        "colab": {
          "base_uri": "https://localhost:8080/"
        },
        "id": "forvfIq93m3I",
        "outputId": "ceb8c3fe-4730-4418-9884-fcd0af08bc9e"
      },
      "execution_count": 36,
      "outputs": [
        {
          "output_type": "execute_result",
          "data": {
            "text/plain": [
              "(tensor([[3., 0., 1.],\n",
              "         [2., 1., 0.],\n",
              "         [4., 1., 0.],\n",
              "         [3., 1., 0.]], dtype=torch.float64),\n",
              " tensor([127500, 106000, 178100, 140000]))"
            ]
          },
          "metadata": {},
          "execution_count": 36
        }
      ]
    }
  ]
}